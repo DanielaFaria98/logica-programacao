{
  "nbformat": 4,
  "nbformat_minor": 0,
  "metadata": {
    "colab": {
      "provenance": []
    },
    "kernelspec": {
      "name": "python3",
      "display_name": "Python 3"
    },
    "language_info": {
      "name": "python"
    }
  },
  "cells": [
    {
      "cell_type": "markdown",
      "source": [
        "# Operadores Aritméticos"
      ],
      "metadata": {
        "id": "EJ92e4hUec0v"
      }
    },
    {
      "cell_type": "code",
      "execution_count": 1,
      "metadata": {
        "colab": {
          "base_uri": "https://localhost:8080/"
        },
        "id": "_XGfyK52cHwz",
        "outputId": "16b76fb6-48f8-412a-f9fd-c841ca927696"
      },
      "outputs": [
        {
          "output_type": "execute_result",
          "data": {
            "text/plain": [
              "12"
            ]
          },
          "metadata": {},
          "execution_count": 1
        }
      ],
      "source": [
        "# Adição\n",
        "10 + 2"
      ]
    },
    {
      "cell_type": "code",
      "source": [
        "# Subtração\n",
        "10 - 2"
      ],
      "metadata": {
        "colab": {
          "base_uri": "https://localhost:8080/"
        },
        "id": "IKr084srdpBH",
        "outputId": "dd213d70-070f-477c-bd01-c4c3d87037da"
      },
      "execution_count": 2,
      "outputs": [
        {
          "output_type": "execute_result",
          "data": {
            "text/plain": [
              "8"
            ]
          },
          "metadata": {},
          "execution_count": 2
        }
      ]
    },
    {
      "cell_type": "code",
      "source": [
        "# Multiplicação\n",
        "10 * 2"
      ],
      "metadata": {
        "colab": {
          "base_uri": "https://localhost:8080/"
        },
        "id": "6Hx668vadvLT",
        "outputId": "dadf544b-434f-409f-ad4e-0145f5bb1d16"
      },
      "execution_count": 3,
      "outputs": [
        {
          "output_type": "execute_result",
          "data": {
            "text/plain": [
              "20"
            ]
          },
          "metadata": {},
          "execution_count": 3
        }
      ]
    },
    {
      "cell_type": "code",
      "source": [
        "# Divisão\n",
        "10 / 2"
      ],
      "metadata": {
        "colab": {
          "base_uri": "https://localhost:8080/"
        },
        "id": "hnaQqhpldzmG",
        "outputId": "bfa00a09-f543-4494-af8f-969bee30e2d2"
      },
      "execution_count": 4,
      "outputs": [
        {
          "output_type": "execute_result",
          "data": {
            "text/plain": [
              "5.0"
            ]
          },
          "metadata": {},
          "execution_count": 4
        }
      ]
    },
    {
      "cell_type": "code",
      "source": [
        "# Divisão inteira\n",
        "10 // 2"
      ],
      "metadata": {
        "colab": {
          "base_uri": "https://localhost:8080/"
        },
        "id": "32wbtCVpd4GJ",
        "outputId": "fc0212fd-e752-4bc7-9362-ae5fca2ca997"
      },
      "execution_count": 5,
      "outputs": [
        {
          "output_type": "execute_result",
          "data": {
            "text/plain": [
              "5"
            ]
          },
          "metadata": {},
          "execution_count": 5
        }
      ]
    },
    {
      "cell_type": "code",
      "source": [
        "# Resto da divisão\n",
        "11 % 2"
      ],
      "metadata": {
        "colab": {
          "base_uri": "https://localhost:8080/"
        },
        "id": "tfCSHR5Hd9N7",
        "outputId": "3a335fe6-41ed-49fe-b5a7-5f34a5bdfbc6"
      },
      "execution_count": 6,
      "outputs": [
        {
          "output_type": "execute_result",
          "data": {
            "text/plain": [
              "1"
            ]
          },
          "metadata": {},
          "execution_count": 6
        }
      ]
    },
    {
      "cell_type": "code",
      "source": [
        "# Potenciação\n",
        "10 ** 2"
      ],
      "metadata": {
        "colab": {
          "base_uri": "https://localhost:8080/"
        },
        "id": "a7LCRm6BeCDK",
        "outputId": "c47df101-a9e8-47b5-e462-194627c2eac9"
      },
      "execution_count": 7,
      "outputs": [
        {
          "output_type": "execute_result",
          "data": {
            "text/plain": [
              "100"
            ]
          },
          "metadata": {},
          "execution_count": 7
        }
      ]
    },
    {
      "cell_type": "markdown",
      "source": [
        "# Operadores Relacionais"
      ],
      "metadata": {
        "id": "8qElTCo2e7Pg"
      }
    },
    {
      "cell_type": "code",
      "source": [
        "# Menor\n",
        "10 < 2"
      ],
      "metadata": {
        "colab": {
          "base_uri": "https://localhost:8080/"
        },
        "id": "8YyY2pHOfBt7",
        "outputId": "0c08bd2c-53a6-43ab-cdef-d1b0af10f7f4"
      },
      "execution_count": 8,
      "outputs": [
        {
          "output_type": "execute_result",
          "data": {
            "text/plain": [
              "False"
            ]
          },
          "metadata": {},
          "execution_count": 8
        }
      ]
    },
    {
      "cell_type": "code",
      "source": [
        "# Menor ou igual\n",
        "10 <= 2"
      ],
      "metadata": {
        "colab": {
          "base_uri": "https://localhost:8080/"
        },
        "id": "aOYhECdVfHtv",
        "outputId": "9cb7c807-4d36-43db-8b38-de35ed9ab45f"
      },
      "execution_count": 9,
      "outputs": [
        {
          "output_type": "execute_result",
          "data": {
            "text/plain": [
              "False"
            ]
          },
          "metadata": {},
          "execution_count": 9
        }
      ]
    },
    {
      "cell_type": "code",
      "source": [
        "# Maior\n",
        "10 > 2"
      ],
      "metadata": {
        "colab": {
          "base_uri": "https://localhost:8080/"
        },
        "id": "x3_g1f4UfNfP",
        "outputId": "a817d99b-395a-48ed-eca3-27f686d3512b"
      },
      "execution_count": 10,
      "outputs": [
        {
          "output_type": "execute_result",
          "data": {
            "text/plain": [
              "True"
            ]
          },
          "metadata": {},
          "execution_count": 10
        }
      ]
    },
    {
      "cell_type": "code",
      "source": [
        "# Maior ou igual\n",
        "10 >= 2"
      ],
      "metadata": {
        "colab": {
          "base_uri": "https://localhost:8080/"
        },
        "id": "hV4fd9lKfRAP",
        "outputId": "9831e697-6922-4225-d7fa-059375c87ddc"
      },
      "execution_count": 11,
      "outputs": [
        {
          "output_type": "execute_result",
          "data": {
            "text/plain": [
              "True"
            ]
          },
          "metadata": {},
          "execution_count": 11
        }
      ]
    },
    {
      "cell_type": "code",
      "source": [
        "# Igual\n",
        "7 == 7"
      ],
      "metadata": {
        "colab": {
          "base_uri": "https://localhost:8080/"
        },
        "id": "a6SbIMFufVi9",
        "outputId": "7a82b5de-de13-446d-c20b-6749ae0b9d06"
      },
      "execution_count": 12,
      "outputs": [
        {
          "output_type": "execute_result",
          "data": {
            "text/plain": [
              "True"
            ]
          },
          "metadata": {},
          "execution_count": 12
        }
      ]
    },
    {
      "cell_type": "code",
      "source": [
        "# Diferente\n",
        "7 !=7"
      ],
      "metadata": {
        "colab": {
          "base_uri": "https://localhost:8080/"
        },
        "id": "UfytTd69fZdP",
        "outputId": "8e09342f-4d0f-4cd2-c7c9-c7065d7f5287"
      },
      "execution_count": 13,
      "outputs": [
        {
          "output_type": "execute_result",
          "data": {
            "text/plain": [
              "False"
            ]
          },
          "metadata": {},
          "execution_count": 13
        }
      ]
    },
    {
      "cell_type": "markdown",
      "source": [
        "# Operadores Lógicos"
      ],
      "metadata": {
        "id": "wLYfhbVqffvW"
      }
    },
    {
      "cell_type": "markdown",
      "source": [
        "\n",
        "\n",
        "*   And\n",
        "*   Or\n",
        "*   Not\n",
        "\n"
      ],
      "metadata": {
        "id": "fM-iEgn-f788"
      }
    },
    {
      "cell_type": "markdown",
      "source": [
        "# Tabela Verdade"
      ],
      "metadata": {
        "id": "3Zx6v7H1gD1U"
      }
    },
    {
      "cell_type": "markdown",
      "source": [
        "And"
      ],
      "metadata": {
        "id": "0FFsEkcKgHtn"
      }
    },
    {
      "cell_type": "code",
      "source": [
        "print(10 > 2 and 4 < 6)        # V and V - V\n",
        "print(10 > 2 and 4 > 6)        # V and F - F\n",
        "print(10 < 2 and 4 < 6)        # V and F - F\n",
        "print(10 < 2 and 4 > 6)        # F and F - F"
      ],
      "metadata": {
        "colab": {
          "base_uri": "https://localhost:8080/"
        },
        "id": "im-N4jlzgbmQ",
        "outputId": "3badb7c6-449c-4bff-bc1b-c179e6637ca5"
      },
      "execution_count": 14,
      "outputs": [
        {
          "output_type": "stream",
          "name": "stdout",
          "text": [
            "True\n",
            "False\n",
            "False\n",
            "False\n"
          ]
        }
      ]
    },
    {
      "cell_type": "markdown",
      "source": [
        "Or"
      ],
      "metadata": {
        "id": "CDPjbvuYhCsv"
      }
    },
    {
      "cell_type": "code",
      "source": [
        "print(10 > 2 or 4 < 6)        # V or V - V\n",
        "print(10 > 2 or 4 > 6)        # V or F - V\n",
        "print(10 < 2 or 4 < 6)        # V or F - V\n",
        "print(10 < 2 or 4 > 6)        # F or F - F"
      ],
      "metadata": {
        "colab": {
          "base_uri": "https://localhost:8080/"
        },
        "id": "T5bX2a3KhA0L",
        "outputId": "7593d857-b028-4c8a-b206-4cddbd42359d"
      },
      "execution_count": 15,
      "outputs": [
        {
          "output_type": "stream",
          "name": "stdout",
          "text": [
            "True\n",
            "True\n",
            "True\n",
            "False\n"
          ]
        }
      ]
    },
    {
      "cell_type": "markdown",
      "source": [
        "Not"
      ],
      "metadata": {
        "id": "7pKqQF7ahqIc"
      }
    },
    {
      "cell_type": "code",
      "source": [
        "not 10 > 2        # V - F"
      ],
      "metadata": {
        "colab": {
          "base_uri": "https://localhost:8080/"
        },
        "id": "F7SO-rYvhrYf",
        "outputId": "2ae6e8c7-49d3-429d-d7c3-facf69ee9c29"
      },
      "execution_count": 16,
      "outputs": [
        {
          "output_type": "execute_result",
          "data": {
            "text/plain": [
              "False"
            ]
          },
          "metadata": {},
          "execution_count": 16
        }
      ]
    },
    {
      "cell_type": "code",
      "source": [
        "not 10 < 2        # F - V"
      ],
      "metadata": {
        "colab": {
          "base_uri": "https://localhost:8080/"
        },
        "id": "-hCQxieChz1A",
        "outputId": "788cc459-aa3d-4c53-b427-3baae7b6bf80"
      },
      "execution_count": 17,
      "outputs": [
        {
          "output_type": "execute_result",
          "data": {
            "text/plain": [
              "True"
            ]
          },
          "metadata": {},
          "execution_count": 17
        }
      ]
    },
    {
      "cell_type": "markdown",
      "source": [
        "# Variáveis"
      ],
      "metadata": {
        "id": "yj4cQF0Dh5zD"
      }
    },
    {
      "cell_type": "markdown",
      "source": [
        "Variáveis estão alocadas em espaços na memória"
      ],
      "metadata": {
        "id": "LaE8ntEPh8x4"
      }
    },
    {
      "cell_type": "code",
      "source": [
        "# Nome da variável é \"x\" que armazena o valor 10 em um espaço na memória\n",
        "x = 10\n",
        "\n",
        "print(x) # Utilizar a referencia no nome atribuido"
      ],
      "metadata": {
        "colab": {
          "base_uri": "https://localhost:8080/"
        },
        "id": "g5PY7Mn4iKZj",
        "outputId": "c4543039-b2de-4ad9-a4f0-3657e9a36e98"
      },
      "execution_count": 18,
      "outputs": [
        {
          "output_type": "stream",
          "name": "stdout",
          "text": [
            "10\n"
          ]
        }
      ]
    },
    {
      "cell_type": "markdown",
      "source": [
        "Regras"
      ],
      "metadata": {
        "id": "Ywsg9Cqei2QI"
      }
    },
    {
      "cell_type": "markdown",
      "source": [
        "**Case Sensitive**\n",
        "\n",
        "A != a\n",
        "\n",
        "**Boas Práticas com Variáveis**\n",
        "\n",
        "> Exemplo: Multiplicação de 2 números\n",
        "\n",
        "Não usar\n",
        "* Multiplicação\n",
        "* MultiplicacacaoDeDoisNumeros\n",
        "* m\n",
        "\n",
        "Usar\n",
        "* multiplicacao\n",
        "* mult\n",
        "* mult_total (snake_case)"
      ],
      "metadata": {
        "id": "GdcXBMJli3vT"
      }
    },
    {
      "cell_type": "markdown",
      "source": [
        "Tipos de Variáveis"
      ],
      "metadata": {
        "id": "JYMUVFSCjzSM"
      }
    },
    {
      "cell_type": "markdown",
      "source": [
        "> Python é uma linguagem de alto nível"
      ],
      "metadata": {
        "id": "xcS6dWKPkBkP"
      }
    }
  ]
}
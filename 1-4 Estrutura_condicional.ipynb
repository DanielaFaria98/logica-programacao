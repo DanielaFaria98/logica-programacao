{
  "nbformat": 4,
  "nbformat_minor": 0,
  "metadata": {
    "colab": {
      "provenance": []
    },
    "kernelspec": {
      "name": "python3",
      "display_name": "Python 3"
    },
    "language_info": {
      "name": "python"
    }
  },
  "cells": [
    {
      "cell_type": "markdown",
      "source": [
        "# Condicional"
      ],
      "metadata": {
        "id": "F71S-hGDdh-V"
      }
    },
    {
      "cell_type": "code",
      "execution_count": null,
      "metadata": {
        "colab": {
          "base_uri": "https://localhost:8080/"
        },
        "id": "FiyrCWSMddE5",
        "outputId": "2c9320d6-4cb2-4f09-c78a-1aac355e46e7"
      },
      "outputs": [
        {
          "output_type": "stream",
          "name": "stdout",
          "text": [
            "Verdade\n"
          ]
        }
      ],
      "source": [
        "# If\n",
        "if 5 < 10:\n",
        "  print('Verdade')"
      ]
    },
    {
      "cell_type": "code",
      "source": [
        "# If/else\n",
        "num1 = 10\n",
        "num2 = 5\n",
        "if num1 > num2:\n",
        "    print( 'o num1 é o maior número')\n",
        "else:\n",
        "    print('O num2 é o maior número')"
      ],
      "metadata": {
        "colab": {
          "base_uri": "https://localhost:8080/"
        },
        "id": "ZEB5-JjBjKT-",
        "outputId": "7e93145a-dd69-4726-a1d2-a90952f47a57"
      },
      "execution_count": null,
      "outputs": [
        {
          "output_type": "stream",
          "name": "stdout",
          "text": [
            "o num1 é o maior número\n"
          ]
        }
      ]
    },
    {
      "cell_type": "code",
      "source": [
        "# If / Elif / Else\n",
        "num1 = 10\n",
        "num2 = 10\n",
        "if num1 > num2:\n",
        "    print('O num1 é o maior número')\n",
        "elif num1 < num2:\n",
        "    print('O num2 é o maior número')\n",
        "else:\n",
        "    print('Os dois são iguais')"
      ],
      "metadata": {
        "colab": {
          "base_uri": "https://localhost:8080/"
        },
        "id": "k_SOw0khl66E",
        "outputId": "d1988355-27c1-4bd8-a80c-535f36812ceb"
      },
      "execution_count": null,
      "outputs": [
        {
          "output_type": "stream",
          "name": "stdout",
          "text": [
            "Os dois são iguais\n"
          ]
        }
      ]
    },
    {
      "cell_type": "markdown",
      "source": [
        "#Condicional com operadores lógicos"
      ],
      "metadata": {
        "id": "JIugUEesmn4n"
      }
    },
    {
      "cell_type": "code",
      "source": [
        "num1 = 10\n",
        "num2 = 5\n",
        "num3 = 2\n",
        "if (num1 > num2) and (num1 > num3):\n",
        "    print( 'O num1 é o maior número')\n",
        "else:\n",
        "    print('O num1 não é o maior número')"
      ],
      "metadata": {
        "colab": {
          "base_uri": "https://localhost:8080/"
        },
        "id": "dmkC1puZmtsZ",
        "outputId": "ea8a1aeb-f392-49e6-be92-1678132294d3"
      },
      "execution_count": null,
      "outputs": [
        {
          "output_type": "stream",
          "name": "stdout",
          "text": [
            "O num1 é o maior número\n"
          ]
        }
      ]
    }
  ]
}